{
 "cells": [
  {
   "cell_type": "markdown",
   "metadata": {},
   "source": [
    "![ine-divider](https://user-images.githubusercontent.com/7065401/92672068-398e8080-f2ee-11ea-82d6-ad53f7feb5c0.png)\n",
    "<hr>\n",
    "\n",
    "### Software Development with Python\n",
    "# Utilizing custom command line\n",
    "\n",
    "We can embed a custom command line into applications for programmer-level access.\n",
    "\n",
    "In this project, you will be work with a version of the Fractal software library this course uses throughout to demonstrate various Python software development tools.  This same library is used for other purposes in other INE courses.  The version of the library you will need for these exercises is at:\n",
    "\n",
    "> https://github.com/ine-rmotr-projects/INE-Fractal/tree/softwaredev\n",
    "\n",
    "Other branches of that repository will contain somewhat different versions of the library, and many projects in this course will not make sense in relation to them.\n",
    "\n",
    "![orange-divider](https://user-images.githubusercontent.com/7065401/92672455-187a5f80-f2ef-11ea-890c-40be9474f7b7.png)"
   ]
  },
  {
   "cell_type": "markdown",
   "metadata": {},
   "source": [
    "## Project\n",
    "\n",
    "**Create a command-line fractal generator/viewer**\n",
    "\n",
    "Your task is to create a custom shell to generate and view fractals utilizing the Fractal library.  A single command at a terminal should pop up a window showing a certain region of a certain fractal.\n",
    "\n",
    "If you are not familiar with the Matplotlib library, note that you can launch a separate viewer window using `plt.show()`.  The command you define, `show()` should cause such a viewer to launch.  For example:\n",
    "\n",
    "```python\n",
    "% ./viewer.py\n",
    "\n",
    "┌──────────────────────────────────────────────────────────────┐\n",
    "│ Display a fractal using the 'show()' command, kinds are:     │\n",
    "│                                                              │\n",
    "│  * mandelbrot                                                │\n",
    "│  * julia                                                     │\n",
    "│  * gasket                                                    │\n",
    "│  * carpet                                                    │\n",
    "│  * snowflake                                                 │\n",
    "│                                                              │\n",
    "│ Where applicable, optional arguments,                        │\n",
    "│   center=<complex> and size=<float> may be specified         │\n",
    "└──────────────────────────────────────────────────────────────┘\n",
    "\n",
    "display-> show(julia, center=-0.5+0.3, size=1)\n",
    "display-> show(gasket)\n",
    "display-> show(snowflake)\n",
    "display->\n",
    "now exiting InteractiveConsole...\n",
    "```"
   ]
  },
  {
   "cell_type": "markdown",
   "metadata": {},
   "source": [
    "**Solution**\n",
    "\n",
    "```python\n",
    "#!/usr/bin/env python\n",
    "import sys\n",
    "import code\n",
    "from textwrap import dedent\n",
    "import matplotlib.pyplot as plt\n",
    "from fractal.mandelbrot import fast_mandelbrot as mandelbrot\n",
    "from fractal.julia import fast_julia as julia\n",
    "from fractal.sierpiński import gasket, carpet\n",
    "from fractal.koch import snowflake\n",
    "from fractal.visualize import make_canvas\n",
    "\n",
    "sys.ps1 = \"display-> \"\n",
    "sys.ps2 = \"      ... \"\n",
    "banner = dedent(\"\"\"\n",
    "┌──────────────────────────────────────────────────────────────┐\n",
    "│ Display a fractal using the 'show()' command, kinds are:     │\n",
    "│                                                              │\n",
    "│  * mandelbrot                                                │\n",
    "│  * julia                                                     │\n",
    "│  * gasket                                                    │\n",
    "│  * carpet                                                    │\n",
    "│  * snowflake                                                 │\n",
    "│                                                              │\n",
    "│ Where applicable, optional arguments,                        │\n",
    "│   center=<complex> and size=<float> may be specified         │\n",
    "└──────────────────────────────────────────────────────────────┘\n",
    "\"\"\")\n",
    "\n",
    "\n",
    "def show(kind, center=0+0j, size=2):\n",
    "    if kind.__name__ in ('mandelbrot', 'julia'):\n",
    "        canvas = make_canvas(kind, center.real, center.imag, size, 500)\n",
    "    else:\n",
    "        canvas = kind()\n",
    "    plt.imshow(canvas)\n",
    "    plt.show()\n",
    "\n",
    "code.interact(banner=banner, local=globals())\n",
    "```"
   ]
  },
  {
   "cell_type": "markdown",
   "metadata": {},
   "source": [
    "![orange-divider](https://user-images.githubusercontent.com/7065401/92672455-187a5f80-f2ef-11ea-890c-40be9474f7b7.png)"
   ]
  }
 ],
 "metadata": {
  "kernelspec": {
   "display_name": "Python 3",
   "language": "python",
   "name": "python3"
  },
  "language_info": {
   "codemirror_mode": {
    "name": "ipython",
    "version": 3
   },
   "file_extension": ".py",
   "mimetype": "text/x-python",
   "name": "python",
   "nbconvert_exporter": "python",
   "pygments_lexer": "ipython3",
   "version": "3.8.6"
  }
 },
 "nbformat": 4,
 "nbformat_minor": 4
}
